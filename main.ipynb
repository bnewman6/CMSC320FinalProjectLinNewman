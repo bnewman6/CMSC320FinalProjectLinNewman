{
 "cells": [
  {
   "cell_type": "code",
   "execution_count": null,
   "metadata": {},
   "outputs": [],
   "source": [
    "import pandas as pd\n",
    "import numpy as np\n",
    "import statistics as stat\n",
    "import math"
   ]
  },
  {
   "cell_type": "markdown",
   "metadata": {},
   "source": [
    "**Data Preprocessing And Cleaning**"
   ]
  },
  {
   "cell_type": "code",
   "execution_count": 12,
   "metadata": {},
   "outputs": [],
   "source": [
    "#CLEAN DATA\n",
    "# Read the CSV files\n",
    "googl_df = pd.read_csv(\"./data/GOOGL.csv\")\n",
    "qqq_df = pd.read_csv(\"./data/QQQ_raw.csv\")\n",
    "\n",
    "# Trim QQQ data to start on 2004-08-19\n",
    "qqq_df = qqq_df[qqq_df['date'] >= '2004-08-19']\n",
    "\n",
    "# Remove the adjusted close columns from both files\n",
    "googl_df.drop(columns=['Adj Close'], inplace=True)\n",
    "qqq_df.drop(columns=['adjusted_close'], inplace=True)\n",
    "\n",
    "# Add a change percent column to the GOOGL data\n",
    "googl_df['change_percent'] = googl_df['Close'].pct_change() * 100\n",
    "\n",
    "# Add a 20-day average volume column to the GOOGL file\n",
    "googl_df['avg_vol_20d'] = googl_df['Volume'].rolling(window=20).mean()\n",
    "\n",
    "# Rename columns of GOOGL file to match QQQ file\n",
    "googl_df.rename(columns={\n",
    "    'Date': 'date',\n",
    "    'Open': 'open',\n",
    "    'High': 'high',\n",
    "    'Low': 'low',\n",
    "    'Close': 'close',\n",
    "    'Volume': 'volume'\n",
    "}, inplace=True)\n",
    "\n",
    "# Round all data in the dataframe for consistency\n",
    "googl_df = googl_df.round(4)\n",
    "qqq_df = qqq_df.round(4)\n",
    "\n",
    "# Save the modified dataframes to new CSV files\n",
    "googl_df.to_csv(\"data\\cleaned_data\\GOOGL_cleaned.csv\", index=False)\n",
    "qqq_df.to_csv(\"data\\cleaned_data\\QQQ_cleaned.csv\",index=False)"
   ]
  }
 ],
 "metadata": {
  "kernelspec": {
   "display_name": "Python 3.9.13 ('base')",
   "language": "python",
   "name": "python3"
  },
  "language_info": {
   "codemirror_mode": {
    "name": "ipython",
    "version": 3
   },
   "file_extension": ".py",
   "mimetype": "text/x-python",
   "name": "python",
   "nbconvert_exporter": "python",
   "pygments_lexer": "ipython3",
   "version": "3.11.4"
  },
  "orig_nbformat": 4,
  "vscode": {
   "interpreter": {
    "hash": "ea4eb099607157f0446650997a86b72ff47e024153e03fc0a49e99fa25253e9c"
   }
  }
 },
 "nbformat": 4,
 "nbformat_minor": 2
}
